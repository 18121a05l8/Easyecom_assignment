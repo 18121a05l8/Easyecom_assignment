{
  "nbformat": 4,
  "nbformat_minor": 0,
  "metadata": {
    "colab": {
      "name": "Creating-operation.ipynb",
      "provenance": [],
      "authorship_tag": "ABX9TyPw/48rkiRMGR7XaLfgFJYX",
      "include_colab_link": true
    },
    "kernelspec": {
      "name": "python3",
      "display_name": "Python 3"
    },
    "language_info": {
      "name": "python"
    }
  },
  "cells": [
    {
      "cell_type": "markdown",
      "metadata": {
        "id": "view-in-github",
        "colab_type": "text"
      },
      "source": [
        "<a href=\"https://colab.research.google.com/github/18121a05l8/Easyecom_assignment/blob/main/Creating_operation.ipynb\" target=\"_parent\"><img src=\"https://colab.research.google.com/assets/colab-badge.svg\" alt=\"Open In Colab\"/></a>"
      ]
    },
    {
      "cell_type": "code",
      "execution_count": 1,
      "metadata": {
        "id": "iTJ7JJFYksmC"
      },
      "outputs": [],
      "source": [
        "from __future__ import absolute_import\n",
        "from __future__ import print_function\n",
        "from __future__ import division\n",
        "\n",
        "import tensorflow as tf"
      ]
    },
    {
      "cell_type": "code",
      "source": [
        "ten = tf.random.normal([2,3,4],2,1)\n",
        "print(ten)"
      ],
      "metadata": {
        "colab": {
          "base_uri": "https://localhost:8080/"
        },
        "id": "PZful_zkmQZ8",
        "outputId": "7a165bd8-4097-4dab-c5d2-b5e55cad33ce"
      },
      "execution_count": 4,
      "outputs": [
        {
          "output_type": "stream",
          "name": "stdout",
          "text": [
            "tf.Tensor(\n",
            "[[[ 2.3591003   3.924478    1.9957986   1.5840237 ]\n",
            "  [ 2.1052017   1.6462998   2.8093176   2.3065953 ]\n",
            "  [ 3.0374813   2.8344321   1.8001952   1.1931461 ]]\n",
            "\n",
            " [[ 3.2624083   2.5387187   2.9646502   3.8290107 ]\n",
            "  [ 1.8132234  -0.25027943  2.8257606   0.35598338]\n",
            "  [ 2.1425831   1.4351314   1.5402347   2.1957223 ]]], shape=(2, 3, 4), dtype=float32)\n"
          ]
        }
      ]
    },
    {
      "cell_type": "code",
      "source": [
        "tf.multiply(ten,ten)"
      ],
      "metadata": {
        "colab": {
          "base_uri": "https://localhost:8080/"
        },
        "id": "T0JY7PF0ty-X",
        "outputId": "5bb5d072-6856-4b31-f0ac-60b6312d53a4"
      },
      "execution_count": 12,
      "outputs": [
        {
          "output_type": "execute_result",
          "data": {
            "text/plain": [
              "<tf.Tensor: shape=(2, 3, 4), dtype=float32, numpy=\n",
              "array([[[ 5.5653543 , 15.401528  ,  3.983212  ,  2.5091312 ],\n",
              "        [ 4.4318743 ,  2.710303  ,  7.8922653 ,  5.320382  ],\n",
              "        [ 9.226293  ,  8.034005  ,  3.2407029 ,  1.4235977 ]],\n",
              "\n",
              "       [[10.643308  ,  6.4450927 ,  8.78915   , 14.661324  ],\n",
              "        [ 3.2877789 ,  0.06263979,  7.984923  ,  0.12672417],\n",
              "        [ 4.5906625 ,  2.0596023 ,  2.3723228 ,  4.8211966 ]]],\n",
              "      dtype=float32)>"
            ]
          },
          "metadata": {},
          "execution_count": 12
        }
      ]
    },
    {
      "cell_type": "code",
      "source": [
        "tf.scalar_mul(2,ten)"
      ],
      "metadata": {
        "colab": {
          "base_uri": "https://localhost:8080/"
        },
        "id": "uW7BWABPul9Q",
        "outputId": "e35b01cb-3043-4aeb-a8d5-cd5f2695cf52"
      },
      "execution_count": 13,
      "outputs": [
        {
          "output_type": "execute_result",
          "data": {
            "text/plain": [
              "<tf.Tensor: shape=(2, 3, 4), dtype=float32, numpy=\n",
              "array([[[ 4.7182007 ,  7.848956  ,  3.9915972 ,  3.1680474 ],\n",
              "        [ 4.2104034 ,  3.2925997 ,  5.618635  ,  4.6131907 ],\n",
              "        [ 6.0749626 ,  5.6688643 ,  3.6003904 ,  2.3862922 ]],\n",
              "\n",
              "       [[ 6.5248165 ,  5.0774374 ,  5.9293003 ,  7.6580215 ],\n",
              "        [ 3.6264467 , -0.50055885,  5.651521  ,  0.71196675],\n",
              "        [ 4.2851663 ,  2.8702629 ,  3.0804694 ,  4.3914447 ]]],\n",
              "      dtype=float32)>"
            ]
          },
          "metadata": {},
          "execution_count": 13
        }
      ]
    },
    {
      "cell_type": "code",
      "source": [
        "print(ten)\n",
        "tf.abs(ten)"
      ],
      "metadata": {
        "colab": {
          "base_uri": "https://localhost:8080/"
        },
        "id": "T5ka1S42upSj",
        "outputId": "680a8363-3183-49c7-d387-1b7924dab34c"
      },
      "execution_count": 17,
      "outputs": [
        {
          "output_type": "stream",
          "name": "stdout",
          "text": [
            "tf.Tensor(\n",
            "[[[ 2.3591003   3.924478    1.9957986   1.5840237 ]\n",
            "  [ 2.1052017   1.6462998   2.8093176   2.3065953 ]\n",
            "  [ 3.0374813   2.8344321   1.8001952   1.1931461 ]]\n",
            "\n",
            " [[ 3.2624083   2.5387187   2.9646502   3.8290107 ]\n",
            "  [ 1.8132234  -0.25027943  2.8257606   0.35598338]\n",
            "  [ 2.1425831   1.4351314   1.5402347   2.1957223 ]]], shape=(2, 3, 4), dtype=float32)\n"
          ]
        },
        {
          "output_type": "execute_result",
          "data": {
            "text/plain": [
              "<tf.Tensor: shape=(2, 3, 4), dtype=float32, numpy=\n",
              "array([[[2.3591003 , 3.924478  , 1.9957986 , 1.5840237 ],\n",
              "        [2.1052017 , 1.6462998 , 2.8093176 , 2.3065953 ],\n",
              "        [3.0374813 , 2.8344321 , 1.8001952 , 1.1931461 ]],\n",
              "\n",
              "       [[3.2624083 , 2.5387187 , 2.9646502 , 3.8290107 ],\n",
              "        [1.8132234 , 0.25027943, 2.8257606 , 0.35598338],\n",
              "        [2.1425831 , 1.4351314 , 1.5402347 , 2.1957223 ]]], dtype=float32)>"
            ]
          },
          "metadata": {},
          "execution_count": 17
        }
      ]
    },
    {
      "cell_type": "code",
      "source": [
        "tf.reciprocal(ten)"
      ],
      "metadata": {
        "colab": {
          "base_uri": "https://localhost:8080/",
          "height": 166
        },
        "id": "XVJ29b2SuvY8",
        "outputId": "120153ae-f547-412c-a71a-747d3bcedd70"
      },
      "execution_count": 18,
      "outputs": [
        {
          "output_type": "error",
          "ename": "AttributeError",
          "evalue": "ignored",
          "traceback": [
            "\u001b[0;31m---------------------------------------------------------------------------\u001b[0m",
            "\u001b[0;31mAttributeError\u001b[0m                            Traceback (most recent call last)",
            "\u001b[0;32m<ipython-input-18-0a4d46bd2387>\u001b[0m in \u001b[0;36m<module>\u001b[0;34m()\u001b[0m\n\u001b[0;32m----> 1\u001b[0;31m \u001b[0mtf\u001b[0m\u001b[0;34m.\u001b[0m\u001b[0mreciprocal\u001b[0m\u001b[0;34m(\u001b[0m\u001b[0mten\u001b[0m\u001b[0;34m)\u001b[0m\u001b[0;34m\u001b[0m\u001b[0;34m\u001b[0m\u001b[0m\n\u001b[0m",
            "\u001b[0;31mAttributeError\u001b[0m: module 'tensorflow' has no attribute 'reciprocal'"
          ]
        }
      ]
    },
    {
      "cell_type": "code",
      "source": [
        ""
      ],
      "metadata": {
        "id": "YGk0dAVGvFSk"
      },
      "execution_count": null,
      "outputs": []
    }
  ]
}